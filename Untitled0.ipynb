{
 "metadata": {
  "name": "",
  "signature": "sha256:d63fcaf74cc7869bf4186ca14e92ccce381e660bb71d60815095fe1d7239c9b0"
 },
 "nbformat": 3,
 "nbformat_minor": 0,
 "worksheets": []
}